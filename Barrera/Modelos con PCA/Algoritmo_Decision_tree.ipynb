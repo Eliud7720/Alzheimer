{
 "cells": [
  {
   "cell_type": "markdown",
   "metadata": {},
   "source": [
    "# Cargar datos\n",
    "<hr>"
   ]
  },
  {
   "cell_type": "code",
   "execution_count": 1,
   "metadata": {},
   "outputs": [],
   "source": [
    "import pandas as pd"
   ]
  },
  {
   "cell_type": "code",
   "execution_count": 2,
   "metadata": {},
   "outputs": [],
   "source": [
    "df = pd.read_csv(\"Datos_con_ECFP.csv\")"
   ]
  },
  {
   "cell_type": "code",
   "execution_count": 3,
   "metadata": {},
   "outputs": [
    {
     "data": {
      "text/html": [
       "<div>\n",
       "<style scoped>\n",
       "    .dataframe tbody tr th:only-of-type {\n",
       "        vertical-align: middle;\n",
       "    }\n",
       "\n",
       "    .dataframe tbody tr th {\n",
       "        vertical-align: top;\n",
       "    }\n",
       "\n",
       "    .dataframe thead th {\n",
       "        text-align: right;\n",
       "    }\n",
       "</style>\n",
       "<table border=\"1\" class=\"dataframe\">\n",
       "  <thead>\n",
       "    <tr style=\"text-align: right;\">\n",
       "      <th></th>\n",
       "      <th>SMILES</th>\n",
       "      <th>BBB+/BBB-</th>\n",
       "      <th>ECFP</th>\n",
       "      <th>0</th>\n",
       "      <th>1</th>\n",
       "      <th>2</th>\n",
       "      <th>3</th>\n",
       "      <th>4</th>\n",
       "      <th>5</th>\n",
       "      <th>6</th>\n",
       "      <th>...</th>\n",
       "      <th>2038</th>\n",
       "      <th>2039</th>\n",
       "      <th>2040</th>\n",
       "      <th>2041</th>\n",
       "      <th>2042</th>\n",
       "      <th>2043</th>\n",
       "      <th>2044</th>\n",
       "      <th>2045</th>\n",
       "      <th>2046</th>\n",
       "      <th>2047</th>\n",
       "    </tr>\n",
       "  </thead>\n",
       "  <tbody>\n",
       "    <tr>\n",
       "      <th>0</th>\n",
       "      <td>O=C(O)c1cc(N=Nc2ccc(S(=O)(=O)Nc3ccccn3)cc2)ccc1O</td>\n",
       "      <td>BBB-</td>\n",
       "      <td>[0 0 0 ... 0 0 0]</td>\n",
       "      <td>0</td>\n",
       "      <td>0</td>\n",
       "      <td>0</td>\n",
       "      <td>0</td>\n",
       "      <td>1</td>\n",
       "      <td>0</td>\n",
       "      <td>0</td>\n",
       "      <td>...</td>\n",
       "      <td>0</td>\n",
       "      <td>0</td>\n",
       "      <td>0</td>\n",
       "      <td>0</td>\n",
       "      <td>0</td>\n",
       "      <td>0</td>\n",
       "      <td>0</td>\n",
       "      <td>0</td>\n",
       "      <td>0</td>\n",
       "      <td>0</td>\n",
       "    </tr>\n",
       "    <tr>\n",
       "      <th>1</th>\n",
       "      <td>COC1(NC(=O)C(C(=O)O)c2ccc(O)cc2)C(=O)N2C(C(=O)...</td>\n",
       "      <td>BBB-</td>\n",
       "      <td>[0 1 0 ... 0 0 0]</td>\n",
       "      <td>0</td>\n",
       "      <td>1</td>\n",
       "      <td>0</td>\n",
       "      <td>0</td>\n",
       "      <td>0</td>\n",
       "      <td>0</td>\n",
       "      <td>0</td>\n",
       "      <td>...</td>\n",
       "      <td>0</td>\n",
       "      <td>0</td>\n",
       "      <td>0</td>\n",
       "      <td>0</td>\n",
       "      <td>0</td>\n",
       "      <td>0</td>\n",
       "      <td>0</td>\n",
       "      <td>0</td>\n",
       "      <td>0</td>\n",
       "      <td>0</td>\n",
       "    </tr>\n",
       "    <tr>\n",
       "      <th>2</th>\n",
       "      <td>Oc1c(I)cc(Cl)c2cccnc12</td>\n",
       "      <td>BBB-</td>\n",
       "      <td>[0 0 0 ... 0 0 0]</td>\n",
       "      <td>0</td>\n",
       "      <td>0</td>\n",
       "      <td>0</td>\n",
       "      <td>0</td>\n",
       "      <td>0</td>\n",
       "      <td>0</td>\n",
       "      <td>0</td>\n",
       "      <td>...</td>\n",
       "      <td>0</td>\n",
       "      <td>0</td>\n",
       "      <td>0</td>\n",
       "      <td>0</td>\n",
       "      <td>0</td>\n",
       "      <td>0</td>\n",
       "      <td>0</td>\n",
       "      <td>0</td>\n",
       "      <td>0</td>\n",
       "      <td>0</td>\n",
       "    </tr>\n",
       "    <tr>\n",
       "      <th>3</th>\n",
       "      <td>CCNC(=NCCSCc1ncccc1Br)NC#N</td>\n",
       "      <td>BBB-</td>\n",
       "      <td>[0 0 0 ... 0 0 0]</td>\n",
       "      <td>0</td>\n",
       "      <td>0</td>\n",
       "      <td>0</td>\n",
       "      <td>0</td>\n",
       "      <td>0</td>\n",
       "      <td>0</td>\n",
       "      <td>0</td>\n",
       "      <td>...</td>\n",
       "      <td>0</td>\n",
       "      <td>0</td>\n",
       "      <td>0</td>\n",
       "      <td>0</td>\n",
       "      <td>0</td>\n",
       "      <td>0</td>\n",
       "      <td>0</td>\n",
       "      <td>0</td>\n",
       "      <td>0</td>\n",
       "      <td>0</td>\n",
       "    </tr>\n",
       "    <tr>\n",
       "      <th>4</th>\n",
       "      <td>CN1CC[C@]23c4c5ccc(OC6O[C@H](C(=O)O)[C@@H](O)[...</td>\n",
       "      <td>BBB-</td>\n",
       "      <td>[0 0 0 ... 0 0 0]</td>\n",
       "      <td>0</td>\n",
       "      <td>0</td>\n",
       "      <td>0</td>\n",
       "      <td>0</td>\n",
       "      <td>0</td>\n",
       "      <td>0</td>\n",
       "      <td>0</td>\n",
       "      <td>...</td>\n",
       "      <td>0</td>\n",
       "      <td>0</td>\n",
       "      <td>0</td>\n",
       "      <td>0</td>\n",
       "      <td>0</td>\n",
       "      <td>0</td>\n",
       "      <td>0</td>\n",
       "      <td>0</td>\n",
       "      <td>0</td>\n",
       "      <td>0</td>\n",
       "    </tr>\n",
       "  </tbody>\n",
       "</table>\n",
       "<p>5 rows × 2051 columns</p>\n",
       "</div>"
      ],
      "text/plain": [
       "                                              SMILES BBB+/BBB-  \\\n",
       "0   O=C(O)c1cc(N=Nc2ccc(S(=O)(=O)Nc3ccccn3)cc2)ccc1O      BBB-   \n",
       "1  COC1(NC(=O)C(C(=O)O)c2ccc(O)cc2)C(=O)N2C(C(=O)...      BBB-   \n",
       "2                             Oc1c(I)cc(Cl)c2cccnc12      BBB-   \n",
       "3                         CCNC(=NCCSCc1ncccc1Br)NC#N      BBB-   \n",
       "4  CN1CC[C@]23c4c5ccc(OC6O[C@H](C(=O)O)[C@@H](O)[...      BBB-   \n",
       "\n",
       "                ECFP  0  1  2  3  4  5  6  ...  2038  2039  2040  2041  2042  \\\n",
       "0  [0 0 0 ... 0 0 0]  0  0  0  0  1  0  0  ...     0     0     0     0     0   \n",
       "1  [0 1 0 ... 0 0 0]  0  1  0  0  0  0  0  ...     0     0     0     0     0   \n",
       "2  [0 0 0 ... 0 0 0]  0  0  0  0  0  0  0  ...     0     0     0     0     0   \n",
       "3  [0 0 0 ... 0 0 0]  0  0  0  0  0  0  0  ...     0     0     0     0     0   \n",
       "4  [0 0 0 ... 0 0 0]  0  0  0  0  0  0  0  ...     0     0     0     0     0   \n",
       "\n",
       "   2043  2044  2045  2046  2047  \n",
       "0     0     0     0     0     0  \n",
       "1     0     0     0     0     0  \n",
       "2     0     0     0     0     0  \n",
       "3     0     0     0     0     0  \n",
       "4     0     0     0     0     0  \n",
       "\n",
       "[5 rows x 2051 columns]"
      ]
     },
     "execution_count": 3,
     "metadata": {},
     "output_type": "execute_result"
    }
   ],
   "source": [
    "df.head()"
   ]
  },
  {
   "cell_type": "code",
   "execution_count": 4,
   "metadata": {},
   "outputs": [],
   "source": [
    "X = df.drop(columns=[\"SMILES\", \"BBB+/BBB-\", \"ECFP\"])\n",
    "y = df[\"BBB+/BBB-\"]"
   ]
  },
  {
   "cell_type": "markdown",
   "metadata": {},
   "source": [
    "# Modelo Decision Tree con PCA\n",
    "<hr>"
   ]
  },
  {
   "cell_type": "code",
   "execution_count": 5,
   "metadata": {},
   "outputs": [],
   "source": [
    "from sklearn.model_selection import train_test_split, GridSearchCV\n",
    "from sklearn.pipeline import Pipeline\n",
    "from sklearn.decomposition import PCA\n",
    "from sklearn.tree import DecisionTreeClassifier\n",
    "from sklearn.metrics import accuracy_score\n",
    "from sklearn.metrics import recall_score\n",
    "from sklearn.metrics import precision_score\n",
    "from sklearn.metrics import f1_score"
   ]
  },
  {
   "cell_type": "code",
   "execution_count": 6,
   "metadata": {},
   "outputs": [],
   "source": [
    "X_train, X_test, y_train, y_test = train_test_split(X, y, test_size=0.2, random_state=42)"
   ]
  },
  {
   "cell_type": "code",
   "execution_count": 7,
   "metadata": {},
   "outputs": [],
   "source": [
    "pipe = Pipeline([\n",
    "    ('pca', PCA()),\n",
    "    ('DT', DecisionTreeClassifier())\n",
    "])"
   ]
  },
  {
   "cell_type": "code",
   "execution_count": 8,
   "metadata": {},
   "outputs": [],
   "source": [
    "param_grid = {\n",
    "    'pca__n_components': [150],  # Ejemplo de opciones para el número de componentes en PCA\n",
    "    'DT__criterion': ['gini', 'entropy'],       # Número de árboles en el bosque\n",
    "    'DT__splitter': ['best', 'random'],    # Número de características a considerar para dividir el nodo\n",
    "    'DT__max_depth': [10, 20, 30, 40, 50],     # Profundidad máxima de los árboles\n",
    "}\n"
   ]
  },
  {
   "cell_type": "code",
   "execution_count": 9,
   "metadata": {},
   "outputs": [],
   "source": [
    "grid_search = GridSearchCV(estimator=pipe, param_grid=param_grid, cv=5, scoring='accuracy', verbose=2)"
   ]
  },
  {
   "cell_type": "code",
   "execution_count": 10,
   "metadata": {},
   "outputs": [
    {
     "name": "stdout",
     "output_type": "stream",
     "text": [
      "Fitting 5 folds for each of 20 candidates, totalling 100 fits\n",
      "[CV] END DT__criterion=gini, DT__max_depth=10, DT__splitter=best, pca__n_components=150; total time=   2.6s\n",
      "[CV] END DT__criterion=gini, DT__max_depth=10, DT__splitter=best, pca__n_components=150; total time=   2.2s\n",
      "[CV] END DT__criterion=gini, DT__max_depth=10, DT__splitter=best, pca__n_components=150; total time=   2.2s\n",
      "[CV] END DT__criterion=gini, DT__max_depth=10, DT__splitter=best, pca__n_components=150; total time=   2.6s\n",
      "[CV] END DT__criterion=gini, DT__max_depth=10, DT__splitter=best, pca__n_components=150; total time=   2.3s\n",
      "[CV] END DT__criterion=gini, DT__max_depth=10, DT__splitter=random, pca__n_components=150; total time=   1.1s\n",
      "[CV] END DT__criterion=gini, DT__max_depth=10, DT__splitter=random, pca__n_components=150; total time=   0.9s\n",
      "[CV] END DT__criterion=gini, DT__max_depth=10, DT__splitter=random, pca__n_components=150; total time=   1.1s\n",
      "[CV] END DT__criterion=gini, DT__max_depth=10, DT__splitter=random, pca__n_components=150; total time=   1.0s\n",
      "[CV] END DT__criterion=gini, DT__max_depth=10, DT__splitter=random, pca__n_components=150; total time=   0.9s\n",
      "[CV] END DT__criterion=gini, DT__max_depth=20, DT__splitter=best, pca__n_components=150; total time=   2.4s\n",
      "[CV] END DT__criterion=gini, DT__max_depth=20, DT__splitter=best, pca__n_components=150; total time=   2.5s\n",
      "[CV] END DT__criterion=gini, DT__max_depth=20, DT__splitter=best, pca__n_components=150; total time=   2.5s\n",
      "[CV] END DT__criterion=gini, DT__max_depth=20, DT__splitter=best, pca__n_components=150; total time=   2.4s\n",
      "[CV] END DT__criterion=gini, DT__max_depth=20, DT__splitter=best, pca__n_components=150; total time=   2.5s\n",
      "[CV] END DT__criterion=gini, DT__max_depth=20, DT__splitter=random, pca__n_components=150; total time=   1.1s\n",
      "[CV] END DT__criterion=gini, DT__max_depth=20, DT__splitter=random, pca__n_components=150; total time=   1.0s\n",
      "[CV] END DT__criterion=gini, DT__max_depth=20, DT__splitter=random, pca__n_components=150; total time=   1.1s\n",
      "[CV] END DT__criterion=gini, DT__max_depth=20, DT__splitter=random, pca__n_components=150; total time=   1.0s\n",
      "[CV] END DT__criterion=gini, DT__max_depth=20, DT__splitter=random, pca__n_components=150; total time=   1.2s\n",
      "[CV] END DT__criterion=gini, DT__max_depth=30, DT__splitter=best, pca__n_components=150; total time=   2.7s\n",
      "[CV] END DT__criterion=gini, DT__max_depth=30, DT__splitter=best, pca__n_components=150; total time=   2.5s\n",
      "[CV] END DT__criterion=gini, DT__max_depth=30, DT__splitter=best, pca__n_components=150; total time=   2.6s\n",
      "[CV] END DT__criterion=gini, DT__max_depth=30, DT__splitter=best, pca__n_components=150; total time=   2.6s\n",
      "[CV] END DT__criterion=gini, DT__max_depth=30, DT__splitter=best, pca__n_components=150; total time=   2.5s\n",
      "[CV] END DT__criterion=gini, DT__max_depth=30, DT__splitter=random, pca__n_components=150; total time=   1.0s\n",
      "[CV] END DT__criterion=gini, DT__max_depth=30, DT__splitter=random, pca__n_components=150; total time=   1.0s\n",
      "[CV] END DT__criterion=gini, DT__max_depth=30, DT__splitter=random, pca__n_components=150; total time=   1.0s\n",
      "[CV] END DT__criterion=gini, DT__max_depth=30, DT__splitter=random, pca__n_components=150; total time=   1.0s\n",
      "[CV] END DT__criterion=gini, DT__max_depth=30, DT__splitter=random, pca__n_components=150; total time=   1.1s\n",
      "[CV] END DT__criterion=gini, DT__max_depth=40, DT__splitter=best, pca__n_components=150; total time=   2.5s\n",
      "[CV] END DT__criterion=gini, DT__max_depth=40, DT__splitter=best, pca__n_components=150; total time=   2.6s\n",
      "[CV] END DT__criterion=gini, DT__max_depth=40, DT__splitter=best, pca__n_components=150; total time=   2.6s\n",
      "[CV] END DT__criterion=gini, DT__max_depth=40, DT__splitter=best, pca__n_components=150; total time=   2.5s\n",
      "[CV] END DT__criterion=gini, DT__max_depth=40, DT__splitter=best, pca__n_components=150; total time=   2.7s\n",
      "[CV] END DT__criterion=gini, DT__max_depth=40, DT__splitter=random, pca__n_components=150; total time=   1.2s\n",
      "[CV] END DT__criterion=gini, DT__max_depth=40, DT__splitter=random, pca__n_components=150; total time=   1.2s\n",
      "[CV] END DT__criterion=gini, DT__max_depth=40, DT__splitter=random, pca__n_components=150; total time=   1.0s\n",
      "[CV] END DT__criterion=gini, DT__max_depth=40, DT__splitter=random, pca__n_components=150; total time=   1.0s\n",
      "[CV] END DT__criterion=gini, DT__max_depth=40, DT__splitter=random, pca__n_components=150; total time=   1.0s\n",
      "[CV] END DT__criterion=gini, DT__max_depth=50, DT__splitter=best, pca__n_components=150; total time=   2.5s\n",
      "[CV] END DT__criterion=gini, DT__max_depth=50, DT__splitter=best, pca__n_components=150; total time=   2.6s\n",
      "[CV] END DT__criterion=gini, DT__max_depth=50, DT__splitter=best, pca__n_components=150; total time=   2.4s\n",
      "[CV] END DT__criterion=gini, DT__max_depth=50, DT__splitter=best, pca__n_components=150; total time=   2.5s\n",
      "[CV] END DT__criterion=gini, DT__max_depth=50, DT__splitter=best, pca__n_components=150; total time=   2.5s\n",
      "[CV] END DT__criterion=gini, DT__max_depth=50, DT__splitter=random, pca__n_components=150; total time=   1.0s\n",
      "[CV] END DT__criterion=gini, DT__max_depth=50, DT__splitter=random, pca__n_components=150; total time=   1.3s\n",
      "[CV] END DT__criterion=gini, DT__max_depth=50, DT__splitter=random, pca__n_components=150; total time=   1.1s\n",
      "[CV] END DT__criterion=gini, DT__max_depth=50, DT__splitter=random, pca__n_components=150; total time=   1.0s\n",
      "[CV] END DT__criterion=gini, DT__max_depth=50, DT__splitter=random, pca__n_components=150; total time=   0.9s\n",
      "[CV] END DT__criterion=entropy, DT__max_depth=10, DT__splitter=best, pca__n_components=150; total time=   2.0s\n",
      "[CV] END DT__criterion=entropy, DT__max_depth=10, DT__splitter=best, pca__n_components=150; total time=   2.1s\n",
      "[CV] END DT__criterion=entropy, DT__max_depth=10, DT__splitter=best, pca__n_components=150; total time=   2.1s\n",
      "[CV] END DT__criterion=entropy, DT__max_depth=10, DT__splitter=best, pca__n_components=150; total time=   2.1s\n",
      "[CV] END DT__criterion=entropy, DT__max_depth=10, DT__splitter=best, pca__n_components=150; total time=   2.1s\n",
      "[CV] END DT__criterion=entropy, DT__max_depth=10, DT__splitter=random, pca__n_components=150; total time=   1.0s\n",
      "[CV] END DT__criterion=entropy, DT__max_depth=10, DT__splitter=random, pca__n_components=150; total time=   1.0s\n",
      "[CV] END DT__criterion=entropy, DT__max_depth=10, DT__splitter=random, pca__n_components=150; total time=   0.9s\n",
      "[CV] END DT__criterion=entropy, DT__max_depth=10, DT__splitter=random, pca__n_components=150; total time=   1.0s\n",
      "[CV] END DT__criterion=entropy, DT__max_depth=10, DT__splitter=random, pca__n_components=150; total time=   1.0s\n",
      "[CV] END DT__criterion=entropy, DT__max_depth=20, DT__splitter=best, pca__n_components=150; total time=   2.2s\n",
      "[CV] END DT__criterion=entropy, DT__max_depth=20, DT__splitter=best, pca__n_components=150; total time=   2.5s\n",
      "[CV] END DT__criterion=entropy, DT__max_depth=20, DT__splitter=best, pca__n_components=150; total time=   2.4s\n",
      "[CV] END DT__criterion=entropy, DT__max_depth=20, DT__splitter=best, pca__n_components=150; total time=   2.4s\n",
      "[CV] END DT__criterion=entropy, DT__max_depth=20, DT__splitter=best, pca__n_components=150; total time=   2.3s\n",
      "[CV] END DT__criterion=entropy, DT__max_depth=20, DT__splitter=random, pca__n_components=150; total time=   1.0s\n",
      "[CV] END DT__criterion=entropy, DT__max_depth=20, DT__splitter=random, pca__n_components=150; total time=   1.0s\n",
      "[CV] END DT__criterion=entropy, DT__max_depth=20, DT__splitter=random, pca__n_components=150; total time=   0.9s\n",
      "[CV] END DT__criterion=entropy, DT__max_depth=20, DT__splitter=random, pca__n_components=150; total time=   1.0s\n",
      "[CV] END DT__criterion=entropy, DT__max_depth=20, DT__splitter=random, pca__n_components=150; total time=   0.9s\n",
      "[CV] END DT__criterion=entropy, DT__max_depth=30, DT__splitter=best, pca__n_components=150; total time=   2.2s\n",
      "[CV] END DT__criterion=entropy, DT__max_depth=30, DT__splitter=best, pca__n_components=150; total time=   2.4s\n",
      "[CV] END DT__criterion=entropy, DT__max_depth=30, DT__splitter=best, pca__n_components=150; total time=   2.4s\n",
      "[CV] END DT__criterion=entropy, DT__max_depth=30, DT__splitter=best, pca__n_components=150; total time=   2.4s\n",
      "[CV] END DT__criterion=entropy, DT__max_depth=30, DT__splitter=best, pca__n_components=150; total time=   2.3s\n",
      "[CV] END DT__criterion=entropy, DT__max_depth=30, DT__splitter=random, pca__n_components=150; total time=   1.0s\n",
      "[CV] END DT__criterion=entropy, DT__max_depth=30, DT__splitter=random, pca__n_components=150; total time=   0.9s\n",
      "[CV] END DT__criterion=entropy, DT__max_depth=30, DT__splitter=random, pca__n_components=150; total time=   1.1s\n",
      "[CV] END DT__criterion=entropy, DT__max_depth=30, DT__splitter=random, pca__n_components=150; total time=   1.0s\n",
      "[CV] END DT__criterion=entropy, DT__max_depth=30, DT__splitter=random, pca__n_components=150; total time=   1.1s\n",
      "[CV] END DT__criterion=entropy, DT__max_depth=40, DT__splitter=best, pca__n_components=150; total time=   2.2s\n",
      "[CV] END DT__criterion=entropy, DT__max_depth=40, DT__splitter=best, pca__n_components=150; total time=   2.5s\n",
      "[CV] END DT__criterion=entropy, DT__max_depth=40, DT__splitter=best, pca__n_components=150; total time=   2.5s\n",
      "[CV] END DT__criterion=entropy, DT__max_depth=40, DT__splitter=best, pca__n_components=150; total time=   2.4s\n",
      "[CV] END DT__criterion=entropy, DT__max_depth=40, DT__splitter=best, pca__n_components=150; total time=   2.4s\n",
      "[CV] END DT__criterion=entropy, DT__max_depth=40, DT__splitter=random, pca__n_components=150; total time=   1.0s\n",
      "[CV] END DT__criterion=entropy, DT__max_depth=40, DT__splitter=random, pca__n_components=150; total time=   0.9s\n",
      "[CV] END DT__criterion=entropy, DT__max_depth=40, DT__splitter=random, pca__n_components=150; total time=   1.1s\n",
      "[CV] END DT__criterion=entropy, DT__max_depth=40, DT__splitter=random, pca__n_components=150; total time=   1.0s\n",
      "[CV] END DT__criterion=entropy, DT__max_depth=40, DT__splitter=random, pca__n_components=150; total time=   0.9s\n",
      "[CV] END DT__criterion=entropy, DT__max_depth=50, DT__splitter=best, pca__n_components=150; total time=   2.1s\n",
      "[CV] END DT__criterion=entropy, DT__max_depth=50, DT__splitter=best, pca__n_components=150; total time=   2.4s\n",
      "[CV] END DT__criterion=entropy, DT__max_depth=50, DT__splitter=best, pca__n_components=150; total time=   2.4s\n",
      "[CV] END DT__criterion=entropy, DT__max_depth=50, DT__splitter=best, pca__n_components=150; total time=   2.4s\n",
      "[CV] END DT__criterion=entropy, DT__max_depth=50, DT__splitter=best, pca__n_components=150; total time=   2.4s\n",
      "[CV] END DT__criterion=entropy, DT__max_depth=50, DT__splitter=random, pca__n_components=150; total time=   1.0s\n",
      "[CV] END DT__criterion=entropy, DT__max_depth=50, DT__splitter=random, pca__n_components=150; total time=   1.0s\n",
      "[CV] END DT__criterion=entropy, DT__max_depth=50, DT__splitter=random, pca__n_components=150; total time=   1.0s\n",
      "[CV] END DT__criterion=entropy, DT__max_depth=50, DT__splitter=random, pca__n_components=150; total time=   1.0s\n",
      "[CV] END DT__criterion=entropy, DT__max_depth=50, DT__splitter=random, pca__n_components=150; total time=   1.0s\n"
     ]
    },
    {
     "data": {
      "text/html": [
       "<style>#sk-container-id-1 {color: black;}#sk-container-id-1 pre{padding: 0;}#sk-container-id-1 div.sk-toggleable {background-color: white;}#sk-container-id-1 label.sk-toggleable__label {cursor: pointer;display: block;width: 100%;margin-bottom: 0;padding: 0.3em;box-sizing: border-box;text-align: center;}#sk-container-id-1 label.sk-toggleable__label-arrow:before {content: \"▸\";float: left;margin-right: 0.25em;color: #696969;}#sk-container-id-1 label.sk-toggleable__label-arrow:hover:before {color: black;}#sk-container-id-1 div.sk-estimator:hover label.sk-toggleable__label-arrow:before {color: black;}#sk-container-id-1 div.sk-toggleable__content {max-height: 0;max-width: 0;overflow: hidden;text-align: left;background-color: #f0f8ff;}#sk-container-id-1 div.sk-toggleable__content pre {margin: 0.2em;color: black;border-radius: 0.25em;background-color: #f0f8ff;}#sk-container-id-1 input.sk-toggleable__control:checked~div.sk-toggleable__content {max-height: 200px;max-width: 100%;overflow: auto;}#sk-container-id-1 input.sk-toggleable__control:checked~label.sk-toggleable__label-arrow:before {content: \"▾\";}#sk-container-id-1 div.sk-estimator input.sk-toggleable__control:checked~label.sk-toggleable__label {background-color: #d4ebff;}#sk-container-id-1 div.sk-label input.sk-toggleable__control:checked~label.sk-toggleable__label {background-color: #d4ebff;}#sk-container-id-1 input.sk-hidden--visually {border: 0;clip: rect(1px 1px 1px 1px);clip: rect(1px, 1px, 1px, 1px);height: 1px;margin: -1px;overflow: hidden;padding: 0;position: absolute;width: 1px;}#sk-container-id-1 div.sk-estimator {font-family: monospace;background-color: #f0f8ff;border: 1px dotted black;border-radius: 0.25em;box-sizing: border-box;margin-bottom: 0.5em;}#sk-container-id-1 div.sk-estimator:hover {background-color: #d4ebff;}#sk-container-id-1 div.sk-parallel-item::after {content: \"\";width: 100%;border-bottom: 1px solid gray;flex-grow: 1;}#sk-container-id-1 div.sk-label:hover label.sk-toggleable__label {background-color: #d4ebff;}#sk-container-id-1 div.sk-serial::before {content: \"\";position: absolute;border-left: 1px solid gray;box-sizing: border-box;top: 0;bottom: 0;left: 50%;z-index: 0;}#sk-container-id-1 div.sk-serial {display: flex;flex-direction: column;align-items: center;background-color: white;padding-right: 0.2em;padding-left: 0.2em;position: relative;}#sk-container-id-1 div.sk-item {position: relative;z-index: 1;}#sk-container-id-1 div.sk-parallel {display: flex;align-items: stretch;justify-content: center;background-color: white;position: relative;}#sk-container-id-1 div.sk-item::before, #sk-container-id-1 div.sk-parallel-item::before {content: \"\";position: absolute;border-left: 1px solid gray;box-sizing: border-box;top: 0;bottom: 0;left: 50%;z-index: -1;}#sk-container-id-1 div.sk-parallel-item {display: flex;flex-direction: column;z-index: 1;position: relative;background-color: white;}#sk-container-id-1 div.sk-parallel-item:first-child::after {align-self: flex-end;width: 50%;}#sk-container-id-1 div.sk-parallel-item:last-child::after {align-self: flex-start;width: 50%;}#sk-container-id-1 div.sk-parallel-item:only-child::after {width: 0;}#sk-container-id-1 div.sk-dashed-wrapped {border: 1px dashed gray;margin: 0 0.4em 0.5em 0.4em;box-sizing: border-box;padding-bottom: 0.4em;background-color: white;}#sk-container-id-1 div.sk-label label {font-family: monospace;font-weight: bold;display: inline-block;line-height: 1.2em;}#sk-container-id-1 div.sk-label-container {text-align: center;}#sk-container-id-1 div.sk-container {/* jupyter's `normalize.less` sets `[hidden] { display: none; }` but bootstrap.min.css set `[hidden] { display: none !important; }` so we also need the `!important` here to be able to override the default hidden behavior on the sphinx rendered scikit-learn.org. See: https://github.com/scikit-learn/scikit-learn/issues/21755 */display: inline-block !important;position: relative;}#sk-container-id-1 div.sk-text-repr-fallback {display: none;}</style><div id=\"sk-container-id-1\" class=\"sk-top-container\"><div class=\"sk-text-repr-fallback\"><pre>GridSearchCV(cv=5,\n",
       "             estimator=Pipeline(steps=[(&#x27;pca&#x27;, PCA()),\n",
       "                                       (&#x27;DT&#x27;, DecisionTreeClassifier())]),\n",
       "             param_grid={&#x27;DT__criterion&#x27;: [&#x27;gini&#x27;, &#x27;entropy&#x27;],\n",
       "                         &#x27;DT__max_depth&#x27;: [10, 20, 30, 40, 50],\n",
       "                         &#x27;DT__splitter&#x27;: [&#x27;best&#x27;, &#x27;random&#x27;],\n",
       "                         &#x27;pca__n_components&#x27;: [150]},\n",
       "             scoring=&#x27;accuracy&#x27;, verbose=2)</pre><b>In a Jupyter environment, please rerun this cell to show the HTML representation or trust the notebook. <br />On GitHub, the HTML representation is unable to render, please try loading this page with nbviewer.org.</b></div><div class=\"sk-container\" hidden><div class=\"sk-item sk-dashed-wrapped\"><div class=\"sk-label-container\"><div class=\"sk-label sk-toggleable\"><input class=\"sk-toggleable__control sk-hidden--visually\" id=\"sk-estimator-id-1\" type=\"checkbox\" ><label for=\"sk-estimator-id-1\" class=\"sk-toggleable__label sk-toggleable__label-arrow\">GridSearchCV</label><div class=\"sk-toggleable__content\"><pre>GridSearchCV(cv=5,\n",
       "             estimator=Pipeline(steps=[(&#x27;pca&#x27;, PCA()),\n",
       "                                       (&#x27;DT&#x27;, DecisionTreeClassifier())]),\n",
       "             param_grid={&#x27;DT__criterion&#x27;: [&#x27;gini&#x27;, &#x27;entropy&#x27;],\n",
       "                         &#x27;DT__max_depth&#x27;: [10, 20, 30, 40, 50],\n",
       "                         &#x27;DT__splitter&#x27;: [&#x27;best&#x27;, &#x27;random&#x27;],\n",
       "                         &#x27;pca__n_components&#x27;: [150]},\n",
       "             scoring=&#x27;accuracy&#x27;, verbose=2)</pre></div></div></div><div class=\"sk-parallel\"><div class=\"sk-parallel-item\"><div class=\"sk-item\"><div class=\"sk-label-container\"><div class=\"sk-label sk-toggleable\"><input class=\"sk-toggleable__control sk-hidden--visually\" id=\"sk-estimator-id-2\" type=\"checkbox\" ><label for=\"sk-estimator-id-2\" class=\"sk-toggleable__label sk-toggleable__label-arrow\">estimator: Pipeline</label><div class=\"sk-toggleable__content\"><pre>Pipeline(steps=[(&#x27;pca&#x27;, PCA()), (&#x27;DT&#x27;, DecisionTreeClassifier())])</pre></div></div></div><div class=\"sk-serial\"><div class=\"sk-item\"><div class=\"sk-serial\"><div class=\"sk-item\"><div class=\"sk-estimator sk-toggleable\"><input class=\"sk-toggleable__control sk-hidden--visually\" id=\"sk-estimator-id-3\" type=\"checkbox\" ><label for=\"sk-estimator-id-3\" class=\"sk-toggleable__label sk-toggleable__label-arrow\">PCA</label><div class=\"sk-toggleable__content\"><pre>PCA()</pre></div></div></div><div class=\"sk-item\"><div class=\"sk-estimator sk-toggleable\"><input class=\"sk-toggleable__control sk-hidden--visually\" id=\"sk-estimator-id-4\" type=\"checkbox\" ><label for=\"sk-estimator-id-4\" class=\"sk-toggleable__label sk-toggleable__label-arrow\">DecisionTreeClassifier</label><div class=\"sk-toggleable__content\"><pre>DecisionTreeClassifier()</pre></div></div></div></div></div></div></div></div></div></div></div></div>"
      ],
      "text/plain": [
       "GridSearchCV(cv=5,\n",
       "             estimator=Pipeline(steps=[('pca', PCA()),\n",
       "                                       ('DT', DecisionTreeClassifier())]),\n",
       "             param_grid={'DT__criterion': ['gini', 'entropy'],\n",
       "                         'DT__max_depth': [10, 20, 30, 40, 50],\n",
       "                         'DT__splitter': ['best', 'random'],\n",
       "                         'pca__n_components': [150]},\n",
       "             scoring='accuracy', verbose=2)"
      ]
     },
     "execution_count": 10,
     "metadata": {},
     "output_type": "execute_result"
    }
   ],
   "source": [
    "grid_search.fit(X_train, y_train)"
   ]
  },
  {
   "cell_type": "code",
   "execution_count": 11,
   "metadata": {},
   "outputs": [
    {
     "data": {
      "text/plain": [
       "{'DT__criterion': 'gini',\n",
       " 'DT__max_depth': 40,\n",
       " 'DT__splitter': 'best',\n",
       " 'pca__n_components': 150}"
      ]
     },
     "execution_count": 11,
     "metadata": {},
     "output_type": "execute_result"
    }
   ],
   "source": [
    "grid_search.best_params_"
   ]
  },
  {
   "cell_type": "code",
   "execution_count": 12,
   "metadata": {},
   "outputs": [
    {
     "data": {
      "text/plain": [
       "0.8381104883907126"
      ]
     },
     "execution_count": 12,
     "metadata": {},
     "output_type": "execute_result"
    }
   ],
   "source": [
    "grid_search.best_score_"
   ]
  },
  {
   "cell_type": "code",
   "execution_count": 14,
   "metadata": {},
   "outputs": [],
   "source": [
    "pipe = Pipeline([\n",
    "    ('pca', PCA(n_components=150)),\n",
    "    ('DT', DecisionTreeClassifier(criterion=\"gini\", max_depth=40, splitter=\"best\"))\n",
    "])"
   ]
  },
  {
   "cell_type": "code",
   "execution_count": 15,
   "metadata": {},
   "outputs": [
    {
     "data": {
      "text/html": [
       "<style>#sk-container-id-2 {color: black;}#sk-container-id-2 pre{padding: 0;}#sk-container-id-2 div.sk-toggleable {background-color: white;}#sk-container-id-2 label.sk-toggleable__label {cursor: pointer;display: block;width: 100%;margin-bottom: 0;padding: 0.3em;box-sizing: border-box;text-align: center;}#sk-container-id-2 label.sk-toggleable__label-arrow:before {content: \"▸\";float: left;margin-right: 0.25em;color: #696969;}#sk-container-id-2 label.sk-toggleable__label-arrow:hover:before {color: black;}#sk-container-id-2 div.sk-estimator:hover label.sk-toggleable__label-arrow:before {color: black;}#sk-container-id-2 div.sk-toggleable__content {max-height: 0;max-width: 0;overflow: hidden;text-align: left;background-color: #f0f8ff;}#sk-container-id-2 div.sk-toggleable__content pre {margin: 0.2em;color: black;border-radius: 0.25em;background-color: #f0f8ff;}#sk-container-id-2 input.sk-toggleable__control:checked~div.sk-toggleable__content {max-height: 200px;max-width: 100%;overflow: auto;}#sk-container-id-2 input.sk-toggleable__control:checked~label.sk-toggleable__label-arrow:before {content: \"▾\";}#sk-container-id-2 div.sk-estimator input.sk-toggleable__control:checked~label.sk-toggleable__label {background-color: #d4ebff;}#sk-container-id-2 div.sk-label input.sk-toggleable__control:checked~label.sk-toggleable__label {background-color: #d4ebff;}#sk-container-id-2 input.sk-hidden--visually {border: 0;clip: rect(1px 1px 1px 1px);clip: rect(1px, 1px, 1px, 1px);height: 1px;margin: -1px;overflow: hidden;padding: 0;position: absolute;width: 1px;}#sk-container-id-2 div.sk-estimator {font-family: monospace;background-color: #f0f8ff;border: 1px dotted black;border-radius: 0.25em;box-sizing: border-box;margin-bottom: 0.5em;}#sk-container-id-2 div.sk-estimator:hover {background-color: #d4ebff;}#sk-container-id-2 div.sk-parallel-item::after {content: \"\";width: 100%;border-bottom: 1px solid gray;flex-grow: 1;}#sk-container-id-2 div.sk-label:hover label.sk-toggleable__label {background-color: #d4ebff;}#sk-container-id-2 div.sk-serial::before {content: \"\";position: absolute;border-left: 1px solid gray;box-sizing: border-box;top: 0;bottom: 0;left: 50%;z-index: 0;}#sk-container-id-2 div.sk-serial {display: flex;flex-direction: column;align-items: center;background-color: white;padding-right: 0.2em;padding-left: 0.2em;position: relative;}#sk-container-id-2 div.sk-item {position: relative;z-index: 1;}#sk-container-id-2 div.sk-parallel {display: flex;align-items: stretch;justify-content: center;background-color: white;position: relative;}#sk-container-id-2 div.sk-item::before, #sk-container-id-2 div.sk-parallel-item::before {content: \"\";position: absolute;border-left: 1px solid gray;box-sizing: border-box;top: 0;bottom: 0;left: 50%;z-index: -1;}#sk-container-id-2 div.sk-parallel-item {display: flex;flex-direction: column;z-index: 1;position: relative;background-color: white;}#sk-container-id-2 div.sk-parallel-item:first-child::after {align-self: flex-end;width: 50%;}#sk-container-id-2 div.sk-parallel-item:last-child::after {align-self: flex-start;width: 50%;}#sk-container-id-2 div.sk-parallel-item:only-child::after {width: 0;}#sk-container-id-2 div.sk-dashed-wrapped {border: 1px dashed gray;margin: 0 0.4em 0.5em 0.4em;box-sizing: border-box;padding-bottom: 0.4em;background-color: white;}#sk-container-id-2 div.sk-label label {font-family: monospace;font-weight: bold;display: inline-block;line-height: 1.2em;}#sk-container-id-2 div.sk-label-container {text-align: center;}#sk-container-id-2 div.sk-container {/* jupyter's `normalize.less` sets `[hidden] { display: none; }` but bootstrap.min.css set `[hidden] { display: none !important; }` so we also need the `!important` here to be able to override the default hidden behavior on the sphinx rendered scikit-learn.org. See: https://github.com/scikit-learn/scikit-learn/issues/21755 */display: inline-block !important;position: relative;}#sk-container-id-2 div.sk-text-repr-fallback {display: none;}</style><div id=\"sk-container-id-2\" class=\"sk-top-container\"><div class=\"sk-text-repr-fallback\"><pre>Pipeline(steps=[(&#x27;pca&#x27;, PCA(n_components=150)),\n",
       "                (&#x27;DT&#x27;, DecisionTreeClassifier(max_depth=40))])</pre><b>In a Jupyter environment, please rerun this cell to show the HTML representation or trust the notebook. <br />On GitHub, the HTML representation is unable to render, please try loading this page with nbviewer.org.</b></div><div class=\"sk-container\" hidden><div class=\"sk-item sk-dashed-wrapped\"><div class=\"sk-label-container\"><div class=\"sk-label sk-toggleable\"><input class=\"sk-toggleable__control sk-hidden--visually\" id=\"sk-estimator-id-5\" type=\"checkbox\" ><label for=\"sk-estimator-id-5\" class=\"sk-toggleable__label sk-toggleable__label-arrow\">Pipeline</label><div class=\"sk-toggleable__content\"><pre>Pipeline(steps=[(&#x27;pca&#x27;, PCA(n_components=150)),\n",
       "                (&#x27;DT&#x27;, DecisionTreeClassifier(max_depth=40))])</pre></div></div></div><div class=\"sk-serial\"><div class=\"sk-item\"><div class=\"sk-estimator sk-toggleable\"><input class=\"sk-toggleable__control sk-hidden--visually\" id=\"sk-estimator-id-6\" type=\"checkbox\" ><label for=\"sk-estimator-id-6\" class=\"sk-toggleable__label sk-toggleable__label-arrow\">PCA</label><div class=\"sk-toggleable__content\"><pre>PCA(n_components=150)</pre></div></div></div><div class=\"sk-item\"><div class=\"sk-estimator sk-toggleable\"><input class=\"sk-toggleable__control sk-hidden--visually\" id=\"sk-estimator-id-7\" type=\"checkbox\" ><label for=\"sk-estimator-id-7\" class=\"sk-toggleable__label sk-toggleable__label-arrow\">DecisionTreeClassifier</label><div class=\"sk-toggleable__content\"><pre>DecisionTreeClassifier(max_depth=40)</pre></div></div></div></div></div></div></div>"
      ],
      "text/plain": [
       "Pipeline(steps=[('pca', PCA(n_components=150)),\n",
       "                ('DT', DecisionTreeClassifier(max_depth=40))])"
      ]
     },
     "execution_count": 15,
     "metadata": {},
     "output_type": "execute_result"
    }
   ],
   "source": [
    "pipe.fit(X_train, y_train)"
   ]
  },
  {
   "cell_type": "code",
   "execution_count": 16,
   "metadata": {},
   "outputs": [],
   "source": [
    "y_predicha = pipe.predict(X_test)"
   ]
  },
  {
   "cell_type": "code",
   "execution_count": 17,
   "metadata": {},
   "outputs": [
    {
     "name": "stdout",
     "output_type": "stream",
     "text": [
      "Accuracy 0.826\n",
      "Recall 0.826\n",
      "precision 0.826\n",
      "f1 0.826\n"
     ]
    }
   ],
   "source": [
    "#Calcular estadísticos\n",
    "accuracy = accuracy_score(y_test, y_predicha)\n",
    "recall = recall_score(y_test, y_predicha, average='weighted')\n",
    "precision = precision_score(y_test, y_predicha, average='weighted')\n",
    "f1 = f1_score(y_test, y_predicha, average='weighted')\n",
    "print(\"Accuracy\", round(accuracy, 3))\n",
    "print(\"Recall\", round(recall, 3))\n",
    "print(\"precision\", round(precision,3))\n",
    "print(\"f1\", round(f1,3))"
   ]
  },
  {
   "cell_type": "code",
   "execution_count": 18,
   "metadata": {},
   "outputs": [],
   "source": [
    "y_entrenamiento = pipe.predict(X_train)"
   ]
  },
  {
   "cell_type": "code",
   "execution_count": 19,
   "metadata": {},
   "outputs": [
    {
     "name": "stdout",
     "output_type": "stream",
     "text": [
      "Accuracy 0.973\n",
      "Recall 0.973\n",
      "precision 1.0\n",
      "f1 0.973\n"
     ]
    }
   ],
   "source": [
    "accuracy = accuracy_score(y_train, y_entrenamiento)\n",
    "recall = recall_score(y_train, y_entrenamiento, average='weighted')\n",
    "precision = precision_score(y_entrenamiento, y_entrenamiento, average='weighted')\n",
    "f1 = f1_score(y_train, y_entrenamiento, average='weighted')\n",
    "print(\"Accuracy\", round(accuracy, 3))\n",
    "print(\"Recall\", round(recall, 3))\n",
    "print(\"precision\", round(precision,3))\n",
    "print(\"f1\", round(f1,3))"
   ]
  },
  {
   "cell_type": "code",
   "execution_count": 20,
   "metadata": {},
   "outputs": [],
   "source": [
    "import joblib"
   ]
  },
  {
   "cell_type": "code",
   "execution_count": 21,
   "metadata": {},
   "outputs": [
    {
     "data": {
      "text/plain": [
       "['DT_entrenado.joblib']"
      ]
     },
     "execution_count": 21,
     "metadata": {},
     "output_type": "execute_result"
    }
   ],
   "source": [
    "joblib.dump(pipe, \"DT_entrenado.joblib\")"
   ]
  },
  {
   "cell_type": "code",
   "execution_count": null,
   "metadata": {},
   "outputs": [],
   "source": []
  }
 ],
 "metadata": {
  "kernelspec": {
   "display_name": "Python 3",
   "language": "python",
   "name": "python3"
  },
  "language_info": {
   "codemirror_mode": {
    "name": "ipython",
    "version": 3
   },
   "file_extension": ".py",
   "mimetype": "text/x-python",
   "name": "python",
   "nbconvert_exporter": "python",
   "pygments_lexer": "ipython3",
   "version": "3.11.0"
  }
 },
 "nbformat": 4,
 "nbformat_minor": 2
}
